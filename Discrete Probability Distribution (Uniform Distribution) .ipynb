{
 "cells": [
  {
   "cell_type": "code",
   "execution_count": 1,
   "id": "6e5895b6",
   "metadata": {},
   "outputs": [],
   "source": [
    "import numpy as np\n",
    "import math\n",
    "import matplotlib.pyplot as plt\n",
    "import seaborn as sns\n",
    "import sympy as sy\n",
    "from scipy.stats import uniform,randint"
   ]
  },
  {
   "cell_type": "markdown",
   "id": "8cd91579",
   "metadata": {},
   "source": [
    "# Discrete Uniform Distribution"
   ]
  },
  {
   "cell_type": "code",
   "execution_count": 2,
   "id": "e108e296",
   "metadata": {},
   "outputs": [],
   "source": [
    "#defining the lower and the upper limit of the distribution\n",
    "a=1   #Minimum value\n",
    "b=6   #Maximum value"
   ]
  },
  {
   "cell_type": "code",
   "execution_count": 3,
   "id": "7c790aa7",
   "metadata": {},
   "outputs": [
    {
     "data": {
      "text/plain": [
       "array([1, 2, 3, 4, 5, 6])"
      ]
     },
     "execution_count": 3,
     "metadata": {},
     "output_type": "execute_result"
    }
   ],
   "source": [
    "#Array of values for the distribution using the minimum and maximum value\n",
    "x=np.arange(a,b+1)\n",
    "x"
   ]
  },
  {
   "cell_type": "code",
   "execution_count": 4,
   "id": "b69ff665",
   "metadata": {},
   "outputs": [],
   "source": [
    "#Generating a uniform random variable\n",
    "dud= randint(a,b+1)\n"
   ]
  },
  {
   "cell_type": "code",
   "execution_count": 5,
   "id": "ea91a173",
   "metadata": {},
   "outputs": [
    {
     "data": {
      "text/plain": [
       "array([0.16666667, 0.16666667, 0.16666667, 0.16666667, 0.16666667,\n",
       "       0.16666667])"
      ]
     },
     "execution_count": 5,
     "metadata": {},
     "output_type": "execute_result"
    }
   ],
   "source": [
    "#Pmf of the discrete uniform distribution\n",
    "discrete_uniform_pmf= dud.pmf(x)\n",
    "discrete_uniform_pmf"
   ]
  },
  {
   "cell_type": "code",
   "execution_count": 6,
   "id": "7a34664f",
   "metadata": {},
   "outputs": [
    {
     "data": {
      "image/png": "[encoded data removed]",
      "text/plain": [
       "<Figure size 432x288 with 1 Axes>"
      ]
     },
     "metadata": {
      "needs_background": "light"
     },
     "output_type": "display_data"
    }
   ],
   "source": [
    "plt.plot(x, discrete_uniform_pmf, 'go', ms=9)\n",
    "plt.vlines(x, 0, discrete_uniform_pmf, colors='b', lw=3, alpha=0.5)\n",
    "plt.xlabel(\"Random variable X\")\n",
    "plt.ylabel('Probability')\n",
    "plt.show()"
   ]
  },
  {
   "cell_type": "code",
   "execution_count": 7,
   "id": "a8da801d",
   "metadata": {},
   "outputs": [
    {
     "data": {
      "text/plain": [
       "array([0.16666667, 0.33333333, 0.5       , 0.66666667, 0.83333333,\n",
       "       1.        ])"
      ]
     },
     "execution_count": 7,
     "metadata": {},
     "output_type": "execute_result"
    }
   ],
   "source": [
    "discrete_uniform_cdf= dud.cdf(x)\n",
    "discrete_uniform_cdf"
   ]
  },
  {
   "cell_type": "markdown",
   "id": "e0b4232c",
   "metadata": {},
   "source": [
    "# Bernoulli Distribution"
   ]
  },
  {
   "cell_type": "code",
   "execution_count": 8,
   "id": "f5a906b1",
   "metadata": {},
   "outputs": [],
   "source": [
    "from scipy.stats import bernoulli"
   ]
  },
  {
   "cell_type": "code",
   "execution_count": 11,
   "id": "aaf338ce",
   "metadata": {},
   "outputs": [],
   "source": [
    "#Generating a random variable which follows bernoulli distribution with 0.6 as the probability of success\n",
    "rv=bernoulli.rvs(size=1000,p=0.6)"
   ]
  },
  {
   "cell_type": "code",
   "execution_count": 12,
   "id": "a771e72d",
   "metadata": {},
   "outputs": [
    {
     "data": {
      "text/plain": [
       "<seaborn.axisgrid.FacetGrid at 0x13205171130>"
      ]
     },
     "execution_count": 12,
     "metadata": {},
     "output_type": "execute_result"
    },
    {
     "data": {
      "image/png": "[encoded data removed]",
      "text/plain": [
       "<Figure size 360x360 with 1 Axes>"
      ]
     },
     "metadata": {
      "needs_background": "light"
     },
     "output_type": "display_data"
    }
   ],
   "source": [
    "sns.displot(rv)"
   ]
  },
  {
   "cell_type": "code",
   "execution_count": 13,
   "id": "d22bf997",
   "metadata": {},
   "outputs": [],
   "source": [
    "from scipy.stats import binom"
   ]
  },
  {
   "cell_type": "code",
   "execution_count": 32,
   "id": "65c16e6d",
   "metadata": {},
   "outputs": [
    {
     "data": {
      "text/plain": [
       "array([7, 6, 9, 8, 4])"
      ]
     },
     "execution_count": 32,
     "metadata": {},
     "output_type": "execute_result"
    }
   ],
   "source": [
    "#Generating a random variable which follows binomial distribution with 0.6 as the probability of success\n",
    "binom_rv= binom.rvs(n=10,p=0.6,size=5)\n",
    "binom_rv"
   ]
  },
  {
   "cell_type": "code",
   "execution_count": 33,
   "id": "77c1ffb6",
   "metadata": {},
   "outputs": [
    {
     "data": {
      "text/plain": [
       "<AxesSubplot:>"
      ]
     },
     "execution_count": 33,
     "metadata": {},
     "output_type": "execute_result"
    },
    {
     "data": {
      "image/png": "[encoded data removed]",
      "text/plain": [
       "<Figure size 432x288 with 1 Axes>"
      ]
     },
     "metadata": {
      "needs_background": "light"
     },
     "output_type": "display_data"
    }
   ],
   "source": [
    "sns.distplot(binom_rv,hist=True,kde=False)"
   ]
  },
  {
   "cell_type": "markdown",
   "id": "3fabb5ba",
   "metadata": {},
   "source": [
    "# Sums"
   ]
  },
  {
   "cell_type": "markdown",
   "id": "afc8b752",
   "metadata": {},
   "source": [
    "## Q1. A warehouse typically receives 8 deliveries between 4 to 5 p on Friday. What is the probability that only 4 deliveries will arrive between 4 to 5 p on Friday?"
   ]
  },
  {
   "cell_type": "code",
   "execution_count": 34,
   "id": "f24e316b",
   "metadata": {},
   "outputs": [],
   "source": [
    "from scipy.stats import poisson"
   ]
  },
  {
   "cell_type": "code",
   "execution_count": 37,
   "id": "93de372d",
   "metadata": {},
   "outputs": [
    {
     "data": {
      "text/plain": [
       "0.057252288495362"
      ]
     },
     "execution_count": 37,
     "metadata": {},
     "output_type": "execute_result"
    }
   ],
   "source": [
    "poisson.pmf(mu=8,k=4)"
   ]
  },
  {
   "cell_type": "markdown",
   "id": "fcd6c229",
   "metadata": {},
   "source": [
    "## Q2. What is the probability that less than 4 deliveries will arrive between 4 to 5 p on Friday?"
   ]
  },
  {
   "cell_type": "code",
   "execution_count": 43,
   "id": "a30bf6f0",
   "metadata": {},
   "outputs": [
    {
     "data": {
      "text/plain": [
       "0.04238011199168396"
      ]
     },
     "execution_count": 43,
     "metadata": {},
     "output_type": "execute_result"
    }
   ],
   "source": [
    "poisson.cdf(mu=8,k=3)"
   ]
  },
  {
   "cell_type": "markdown",
   "id": "c35a59af",
   "metadata": {},
   "source": [
    "## Q3. What is the probability that no deliveries will arrive between 4 to 5 p on Friday?"
   ]
  },
  {
   "cell_type": "code",
   "execution_count": 44,
   "id": "86eeab43",
   "metadata": {},
   "outputs": [
    {
     "data": {
      "text/plain": [
       "0.00033546262790251185"
      ]
     },
     "execution_count": 44,
     "metadata": {},
     "output_type": "execute_result"
    }
   ],
   "source": [
    "poisson.pmf(mu=8,k=0)"
   ]
  },
  {
   "cell_type": "code",
   "execution_count": null,
   "id": "77bbaf07",
   "metadata": {},
   "outputs": [],
   "source": []
  }
 ],
 "metadata": {
  "kernelspec": {
   "display_name": "Python 3 (ipykernel)",
   "language": "python",
   "name": "python3"
  },
  "language_info": {
   "codemirror_mode": {
    "name": "ipython",
    "version": 3
   },
   "file_extension": ".py",
   "mimetype": "text/x-python",
   "name": "python",
   "nbconvert_exporter": "python",
   "pygments_lexer": "ipython3",
   "version": "3.9.7"
  }
 },
 "nbformat": 4,
 "nbformat_minor": 5
}

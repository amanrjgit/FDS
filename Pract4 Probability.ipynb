{
 "cells": [
  {
   "cell_type": "code",
   "execution_count": 1,
   "id": "8bb088d6",
   "metadata": {},
   "outputs": [
    {
     "name": "stdout",
     "output_type": "stream",
     "text": [
      "The probability of getting 3 is  0.16666666666666666\n"
     ]
    }
   ],
   "source": [
    "#Probability of 3 when a die is rolled\n",
    "ns=6   #{1,2,3,4,5,6}\n",
    "na=1   #{3}\n",
    "pa=na/ns # P(A)\n",
    "print(\"The probability of getting 3 is \",pa)"
   ]
  },
  {
   "cell_type": "code",
   "execution_count": 2,
   "id": "2fbd2e4c",
   "metadata": {},
   "outputs": [
    {
     "name": "stdout",
     "output_type": "stream",
     "text": [
      "The probability of getting atleast one head when 3 fair coins are tossed  0.875\n"
     ]
    }
   ],
   "source": [
    "#Probability of getting atleast one head when 3 fair coins are tossed\n",
    "ns=8 #s={\"HHH\",\"HHT\",\"HTT\",\"TTT\",\"TTH\",\"THH\",\"HTH\",\"THT\"}\n",
    "nb=7 #A={\"HHH\",\"HHT\",\"HTT\",\"TTH\",\"THH\",\"HTH\",\"THT\"}\n",
    "pb= nb/ns #P(B)\n",
    "print(\"The probability of getting atleast one head when 3 fair coins are tossed \",pb)"
   ]
  },
  {
   "cell_type": "code",
   "execution_count": 3,
   "id": "091e23bd",
   "metadata": {},
   "outputs": [
    {
     "name": "stdout",
     "output_type": "stream",
     "text": [
      "The probability of drawing a ball that is not blue  0.7\n"
     ]
    }
   ],
   "source": [
    "'''A glass jar contains 5 red, 3 blue and 2 green jelly beans, If a jelly is drawn at \n",
    "random from a jar what is the probability that it is not blue'''\n",
    "ns=10 #S={red,red,red,red,red,blue,blue,blue,green,green}\n",
    "nc=7\n",
    "pc= nc/ns #P(C)\n",
    "print(\"The probability of drawing a ball that is not blue \",pc)"
   ]
  },
  {
   "cell_type": "code",
   "execution_count": 4,
   "id": "459a2bf5",
   "metadata": {},
   "outputs": [
    {
     "name": "stdout",
     "output_type": "stream",
     "text": [
      "prob they both will is alive in 20 years is : 0.35\n"
     ]
    }
   ],
   "source": [
    "# example :4\n",
    "# if  the prob that person A will be alive i 20 years is 0.7\n",
    "# and the prob of person B will be alive in 20 years is 0.5\n",
    "# what is prob that they both will be alive in  20 years?\n",
    " \n",
    "# these are independent event ,50\n",
    " \n",
    "p= 0.7*0.5\n",
    "print(\"prob they both will is alive in 20 years is :\",p)"
   ]
  },
  {
   "cell_type": "code",
   "execution_count": 10,
   "id": "03ef2026",
   "metadata": {},
   "outputs": [],
   "source": [
    "def event_probability(A,S):\n",
    "    return A/S"
   ]
  },
  {
   "cell_type": "code",
   "execution_count": 11,
   "id": "91fe2356",
   "metadata": {},
   "outputs": [
    {
     "name": "stdout",
     "output_type": "stream",
     "text": [
      "prob of getting a4 or 5 on the first toss and a 1,2 or 3 in the second toss is : 0.16666666666666666\n"
     ]
    }
   ],
   "source": [
    "# example 5\n",
    "\n",
    "# A die i tossed  twise find the prob of getting a 4 or 5 on the first toss\n",
    "# and a 1,2 or 3 in second tossed\n",
    "\n",
    "# using my func \n",
    "\n",
    "# prob of getting a 4 or 5 on the first toss ,2 event total sample is 6\n",
    "pa= event_probability(2,6)\n",
    "\n",
    "\n",
    "# prob of getting a 1,2 or 3 on second  toss 3 event total sample is 6\n",
    "pb=event_probability(3,6)\n",
    "\n",
    "\n",
    "# total prob of both will be\n",
    "p=pa*pb\n",
    "print(\"prob of getting a4 or 5 on the first toss and a 1,2 or 3 in the second toss is :\",p)\n"
   ]
  },
  {
   "cell_type": "code",
   "execution_count": 12,
   "id": "36881099",
   "metadata": {},
   "outputs": [
    {
     "name": "stdout",
     "output_type": "stream",
     "text": [
      "the probability of obtaining white, black and green in that order is 0.041666666666666664\n"
     ]
    }
   ],
   "source": [
    "#A bag contains 5 white marbles, 3 black marbles and 2 green marbles. \n",
    "#In each draw, a marble is drawn from the bag and not replaced. In three draws, find the probability of obtaining white,\n",
    "#black and green in that order.\n",
    "\n",
    "pw= event_probability(5,10)\n",
    "\n",
    "pb = event_probability(3,9)\n",
    "\n",
    "pg=event_probability(2,8) \n",
    "print(\"the probability of obtaining white, black and green in that order is\",pw*pb*pg)\n"
   ]
  },
  {
   "cell_type": "code",
   "execution_count": 24,
   "id": "0fb14dfc",
   "metadata": {},
   "outputs": [
    {
     "name": "stdout",
     "output_type": "stream",
     "text": [
      "probability of drawing a heart or a club\n",
      "0.5\n",
      "   \n",
      "Probability of drawing a king or a queen or a ace\n",
      "0.23\n",
      "  \n",
      "Probability of drawing a ace or a heart\n",
      "0.31\n",
      "   \n",
      "Probability of getting a red card or a face card\n",
      "0.62\n"
     ]
    }
   ],
   "source": [
    "#Sample Space \n",
    "cards = 52\n",
    "\n",
    "#If 1 card is drawn at random\n",
    "#Calculate the probability of drawing a heart or a club\n",
    "hearts = 13\n",
    "clubs = 13 \n",
    "heart_or_club = event_probability(hearts, cards) + event_probability(clubs,cards)\n",
    "print(\"probability of drawing a heart or a club\")\n",
    "print(heart_or_club)\n",
    "print(\"   \")\n",
    "\n",
    "\n",
    "\n",
    "king=4\n",
    "queen=4\n",
    "ace=4\n",
    "akq=event_probability(king,cards)+event_probability(queen,cards)+event_probability(ace,cards)\n",
    "print(\"Probability of drawing a king or a queen or a ace\")\n",
    "print(round(akq,2))\n",
    "print(\"  \")\n",
    "\n",
    "\n",
    "\n",
    "print(\"Probability of drawing a ace or a heart\")\n",
    "#Probability of drawing a ace or a heart\n",
    "pofheart=event_probability(hearts,cards)\n",
    "poface=event_probability(ace,cards)\n",
    "aceandheart=event_probability(1,cards)\n",
    "aceorheart=poface+pofheart-aceandheart\n",
    "print(round(aceorheart,2))\n",
    "print(\"   \")\n",
    "\n",
    "print(\"Probability of getting a red card or a face card\")\n",
    "red=26\n",
    "face=12\n",
    "redandface=6\n",
    "pofredorface=event_probability(red,cards)+event_probability(face,cards)-event_probability(redandface,cards)\n",
    "print(round(pofredorface,2))"
   ]
  },
  {
   "cell_type": "code",
   "execution_count": 27,
   "id": "f290fb1e",
   "metadata": {},
   "outputs": [
    {
     "name": "stdout",
     "output_type": "stream",
     "text": [
      "prob of not getting 5 is : 0.83\n"
     ]
    }
   ],
   "source": [
    "\n",
    "# prob of not geting 5 when die is rolled.\n",
    "# s +{1,2,3,4,5,,6}\n",
    "ns = 6\n",
    "\n",
    "# getting 5\n",
    "na=1\n",
    "\n",
    "pa= event_probability(na,ns)\n",
    "print(\"prob of not getting 5 is :\",round(1-event_probability(na,ns),2))\n",
    "# both the way are same \n",
    "# prob of not getting 5 is - prob of getting 5\n",
    "#print(\"prob of not getting 5 is :\",round(1-pa,2))"
   ]
  },
  {
   "cell_type": "code",
   "execution_count": 1,
   "id": "c19a0786",
   "metadata": {},
   "outputs": [],
   "source": [
    "import pandas as pd\n",
    "import numpy as np"
   ]
  },
  {
   "cell_type": "code",
   "execution_count": 2,
   "id": "f41e55a5",
   "metadata": {},
   "outputs": [],
   "source": [
    "df=pd.read_csv(\"C:\\\\Users\\\\MSCIT\\\\Desktop\\\\723_aman_msc\\\\Datasets\\\\student-mat.csv\")"
   ]
  },
  {
   "cell_type": "code",
   "execution_count": 3,
   "id": "c4ac0d7a",
   "metadata": {},
   "outputs": [
    {
     "data": {
      "text/html": [
       "<div>\n",
       "<style scoped>\n",
       "    .dataframe tbody tr th:only-of-type {\n",
       "        vertical-align: middle;\n",
       "    }\n",
       "\n",
       "    .dataframe tbody tr th {\n",
       "        vertical-align: top;\n",
       "    }\n",
       "\n",
       "    .dataframe thead th {\n",
       "        text-align: right;\n",
       "    }\n",
       "</style>\n",
       "<table border=\"1\" class=\"dataframe\">\n",
       "  <thead>\n",
       "    <tr style=\"text-align: right;\">\n",
       "      <th></th>\n",
       "      <th>school</th>\n",
       "      <th>sex</th>\n",
       "      <th>age</th>\n",
       "      <th>address</th>\n",
       "      <th>famsize</th>\n",
       "      <th>Pstatus</th>\n",
       "      <th>Medu</th>\n",
       "      <th>Fedu</th>\n",
       "      <th>Mjob</th>\n",
       "      <th>Fjob</th>\n",
       "      <th>...</th>\n",
       "      <th>famrel</th>\n",
       "      <th>freetime</th>\n",
       "      <th>goout</th>\n",
       "      <th>Dalc</th>\n",
       "      <th>Walc</th>\n",
       "      <th>health</th>\n",
       "      <th>absences</th>\n",
       "      <th>G1</th>\n",
       "      <th>G2</th>\n",
       "      <th>G3</th>\n",
       "    </tr>\n",
       "  </thead>\n",
       "  <tbody>\n",
       "    <tr>\n",
       "      <th>0</th>\n",
       "      <td>GP</td>\n",
       "      <td>F</td>\n",
       "      <td>18</td>\n",
       "      <td>U</td>\n",
       "      <td>GT3</td>\n",
       "      <td>A</td>\n",
       "      <td>4</td>\n",
       "      <td>4</td>\n",
       "      <td>at_home</td>\n",
       "      <td>teacher</td>\n",
       "      <td>...</td>\n",
       "      <td>4</td>\n",
       "      <td>3</td>\n",
       "      <td>4</td>\n",
       "      <td>1</td>\n",
       "      <td>1</td>\n",
       "      <td>3</td>\n",
       "      <td>6</td>\n",
       "      <td>5</td>\n",
       "      <td>6</td>\n",
       "      <td>6</td>\n",
       "    </tr>\n",
       "    <tr>\n",
       "      <th>1</th>\n",
       "      <td>GP</td>\n",
       "      <td>F</td>\n",
       "      <td>17</td>\n",
       "      <td>U</td>\n",
       "      <td>GT3</td>\n",
       "      <td>T</td>\n",
       "      <td>1</td>\n",
       "      <td>1</td>\n",
       "      <td>at_home</td>\n",
       "      <td>other</td>\n",
       "      <td>...</td>\n",
       "      <td>5</td>\n",
       "      <td>3</td>\n",
       "      <td>3</td>\n",
       "      <td>1</td>\n",
       "      <td>1</td>\n",
       "      <td>3</td>\n",
       "      <td>4</td>\n",
       "      <td>5</td>\n",
       "      <td>5</td>\n",
       "      <td>6</td>\n",
       "    </tr>\n",
       "    <tr>\n",
       "      <th>2</th>\n",
       "      <td>GP</td>\n",
       "      <td>F</td>\n",
       "      <td>15</td>\n",
       "      <td>U</td>\n",
       "      <td>LE3</td>\n",
       "      <td>T</td>\n",
       "      <td>1</td>\n",
       "      <td>1</td>\n",
       "      <td>at_home</td>\n",
       "      <td>other</td>\n",
       "      <td>...</td>\n",
       "      <td>4</td>\n",
       "      <td>3</td>\n",
       "      <td>2</td>\n",
       "      <td>2</td>\n",
       "      <td>3</td>\n",
       "      <td>3</td>\n",
       "      <td>10</td>\n",
       "      <td>7</td>\n",
       "      <td>8</td>\n",
       "      <td>10</td>\n",
       "    </tr>\n",
       "    <tr>\n",
       "      <th>3</th>\n",
       "      <td>GP</td>\n",
       "      <td>F</td>\n",
       "      <td>15</td>\n",
       "      <td>U</td>\n",
       "      <td>GT3</td>\n",
       "      <td>T</td>\n",
       "      <td>4</td>\n",
       "      <td>2</td>\n",
       "      <td>health</td>\n",
       "      <td>services</td>\n",
       "      <td>...</td>\n",
       "      <td>3</td>\n",
       "      <td>2</td>\n",
       "      <td>2</td>\n",
       "      <td>1</td>\n",
       "      <td>1</td>\n",
       "      <td>5</td>\n",
       "      <td>2</td>\n",
       "      <td>15</td>\n",
       "      <td>14</td>\n",
       "      <td>15</td>\n",
       "    </tr>\n",
       "    <tr>\n",
       "      <th>4</th>\n",
       "      <td>GP</td>\n",
       "      <td>F</td>\n",
       "      <td>16</td>\n",
       "      <td>U</td>\n",
       "      <td>GT3</td>\n",
       "      <td>T</td>\n",
       "      <td>3</td>\n",
       "      <td>3</td>\n",
       "      <td>other</td>\n",
       "      <td>other</td>\n",
       "      <td>...</td>\n",
       "      <td>4</td>\n",
       "      <td>3</td>\n",
       "      <td>2</td>\n",
       "      <td>1</td>\n",
       "      <td>2</td>\n",
       "      <td>5</td>\n",
       "      <td>4</td>\n",
       "      <td>6</td>\n",
       "      <td>10</td>\n",
       "      <td>10</td>\n",
       "    </tr>\n",
       "  </tbody>\n",
       "</table>\n",
       "<p>5 rows × 33 columns</p>\n",
       "</div>"
      ],
      "text/plain": [
       "  school sex  age address famsize Pstatus  Medu  Fedu     Mjob      Fjob  ...  \\\n",
       "0     GP   F   18       U     GT3       A     4     4  at_home   teacher  ...   \n",
       "1     GP   F   17       U     GT3       T     1     1  at_home     other  ...   \n",
       "2     GP   F   15       U     LE3       T     1     1  at_home     other  ...   \n",
       "3     GP   F   15       U     GT3       T     4     2   health  services  ...   \n",
       "4     GP   F   16       U     GT3       T     3     3    other     other  ...   \n",
       "\n",
       "  famrel freetime  goout  Dalc  Walc health absences  G1  G2  G3  \n",
       "0      4        3      4     1     1      3        6   5   6   6  \n",
       "1      5        3      3     1     1      3        4   5   5   6  \n",
       "2      4        3      2     2     3      3       10   7   8  10  \n",
       "3      3        2      2     1     1      5        2  15  14  15  \n",
       "4      4        3      2     1     2      5        4   6  10  10  \n",
       "\n",
       "[5 rows x 33 columns]"
      ]
     },
     "execution_count": 3,
     "metadata": {},
     "output_type": "execute_result"
    }
   ],
   "source": [
    "df.head()"
   ]
  },
  {
   "cell_type": "markdown",
   "id": "d573af00",
   "metadata": {},
   "source": [
    "##  Calculate the probability that a student gets an A grade(80% +) in maths, given they miss 10 or more classes "
   ]
  },
  {
   "cell_type": "code",
   "execution_count": 39,
   "id": "fc797777",
   "metadata": {},
   "outputs": [],
   "source": [
    "q1= df[[\"absences\",\"G3\"]].copy()"
   ]
  },
  {
   "cell_type": "code",
   "execution_count": 41,
   "id": "240f54ed",
   "metadata": {},
   "outputs": [],
   "source": [
    "q1[\"Grade_A\"]=(0.8<=q1[\"G3\"]/q1[\"G3\"].max()).astype(int)"
   ]
  },
  {
   "cell_type": "code",
   "execution_count": 42,
   "id": "2ce65cfd",
   "metadata": {},
   "outputs": [
    {
     "data": {
      "text/plain": [
       "0    355\n",
       "1     40\n",
       "Name: Grade_A, dtype: int64"
      ]
     },
     "execution_count": 42,
     "metadata": {},
     "output_type": "execute_result"
    }
   ],
   "source": [
    "q1[\"Grade_A\"].value_counts()"
   ]
  },
  {
   "cell_type": "code",
   "execution_count": 43,
   "id": "b05ccdcf",
   "metadata": {},
   "outputs": [],
   "source": [
    "q1[\"high_absence\"]=(q1[\"absences\"]>=10).astype(int)"
   ]
  },
  {
   "cell_type": "code",
   "execution_count": 44,
   "id": "e0e2df15",
   "metadata": {},
   "outputs": [
    {
     "data": {
      "text/html": [
       "<div>\n",
       "<style scoped>\n",
       "    .dataframe tbody tr th:only-of-type {\n",
       "        vertical-align: middle;\n",
       "    }\n",
       "\n",
       "    .dataframe tbody tr th {\n",
       "        vertical-align: top;\n",
       "    }\n",
       "\n",
       "    .dataframe thead th {\n",
       "        text-align: right;\n",
       "    }\n",
       "</style>\n",
       "<table border=\"1\" class=\"dataframe\">\n",
       "  <thead>\n",
       "    <tr style=\"text-align: right;\">\n",
       "      <th></th>\n",
       "      <th>absences</th>\n",
       "      <th>G3</th>\n",
       "      <th>Grade_A</th>\n",
       "      <th>high_absence</th>\n",
       "    </tr>\n",
       "  </thead>\n",
       "  <tbody>\n",
       "    <tr>\n",
       "      <th>0</th>\n",
       "      <td>6</td>\n",
       "      <td>6</td>\n",
       "      <td>0</td>\n",
       "      <td>0</td>\n",
       "    </tr>\n",
       "    <tr>\n",
       "      <th>1</th>\n",
       "      <td>4</td>\n",
       "      <td>6</td>\n",
       "      <td>0</td>\n",
       "      <td>0</td>\n",
       "    </tr>\n",
       "    <tr>\n",
       "      <th>2</th>\n",
       "      <td>10</td>\n",
       "      <td>10</td>\n",
       "      <td>0</td>\n",
       "      <td>1</td>\n",
       "    </tr>\n",
       "    <tr>\n",
       "      <th>3</th>\n",
       "      <td>2</td>\n",
       "      <td>15</td>\n",
       "      <td>0</td>\n",
       "      <td>0</td>\n",
       "    </tr>\n",
       "    <tr>\n",
       "      <th>4</th>\n",
       "      <td>4</td>\n",
       "      <td>10</td>\n",
       "      <td>0</td>\n",
       "      <td>0</td>\n",
       "    </tr>\n",
       "    <tr>\n",
       "      <th>...</th>\n",
       "      <td>...</td>\n",
       "      <td>...</td>\n",
       "      <td>...</td>\n",
       "      <td>...</td>\n",
       "    </tr>\n",
       "    <tr>\n",
       "      <th>390</th>\n",
       "      <td>11</td>\n",
       "      <td>9</td>\n",
       "      <td>0</td>\n",
       "      <td>1</td>\n",
       "    </tr>\n",
       "    <tr>\n",
       "      <th>391</th>\n",
       "      <td>3</td>\n",
       "      <td>16</td>\n",
       "      <td>1</td>\n",
       "      <td>0</td>\n",
       "    </tr>\n",
       "    <tr>\n",
       "      <th>392</th>\n",
       "      <td>3</td>\n",
       "      <td>7</td>\n",
       "      <td>0</td>\n",
       "      <td>0</td>\n",
       "    </tr>\n",
       "    <tr>\n",
       "      <th>393</th>\n",
       "      <td>0</td>\n",
       "      <td>10</td>\n",
       "      <td>0</td>\n",
       "      <td>0</td>\n",
       "    </tr>\n",
       "    <tr>\n",
       "      <th>394</th>\n",
       "      <td>5</td>\n",
       "      <td>9</td>\n",
       "      <td>0</td>\n",
       "      <td>0</td>\n",
       "    </tr>\n",
       "  </tbody>\n",
       "</table>\n",
       "<p>395 rows × 4 columns</p>\n",
       "</div>"
      ],
      "text/plain": [
       "     absences  G3  Grade_A  high_absence\n",
       "0           6   6        0             0\n",
       "1           4   6        0             0\n",
       "2          10  10        0             1\n",
       "3           2  15        0             0\n",
       "4           4  10        0             0\n",
       "..        ...  ..      ...           ...\n",
       "390        11   9        0             1\n",
       "391         3  16        1             0\n",
       "392         3   7        0             0\n",
       "393         0  10        0             0\n",
       "394         5   9        0             0\n",
       "\n",
       "[395 rows x 4 columns]"
      ]
     },
     "execution_count": 44,
     "metadata": {},
     "output_type": "execute_result"
    }
   ],
   "source": [
    "q1"
   ]
  },
  {
   "cell_type": "code",
   "execution_count": 45,
   "id": "9563bed5",
   "metadata": {},
   "outputs": [],
   "source": [
    "from sklearn.metrics import confusion_matrix"
   ]
  },
  {
   "cell_type": "code",
   "execution_count": 46,
   "id": "749c0c5a",
   "metadata": {},
   "outputs": [
    {
     "data": {
      "text/plain": [
       "array([[277,  78],\n",
       "       [ 35,   5]], dtype=int64)"
      ]
     },
     "execution_count": 46,
     "metadata": {},
     "output_type": "execute_result"
    }
   ],
   "source": [
    "cm=confusion_matrix(q1[\"Grade_A\"],q1[\"high_absence\"])\n",
    "cm"
   ]
  },
  {
   "cell_type": "code",
   "execution_count": 83,
   "id": "7530012a",
   "metadata": {},
   "outputs": [
    {
     "data": {
      "text/html": [
       "<div>\n",
       "<style scoped>\n",
       "    .dataframe tbody tr th:only-of-type {\n",
       "        vertical-align: middle;\n",
       "    }\n",
       "\n",
       "    .dataframe tbody tr th {\n",
       "        vertical-align: top;\n",
       "    }\n",
       "\n",
       "    .dataframe thead th {\n",
       "        text-align: right;\n",
       "    }\n",
       "</style>\n",
       "<table border=\"1\" class=\"dataframe\">\n",
       "  <thead>\n",
       "    <tr style=\"text-align: right;\">\n",
       "      <th>high_absence</th>\n",
       "      <th>0</th>\n",
       "      <th>1</th>\n",
       "    </tr>\n",
       "    <tr>\n",
       "      <th>Grade_A</th>\n",
       "      <th></th>\n",
       "      <th></th>\n",
       "    </tr>\n",
       "  </thead>\n",
       "  <tbody>\n",
       "    <tr>\n",
       "      <th>0</th>\n",
       "      <td>277</td>\n",
       "      <td>78</td>\n",
       "    </tr>\n",
       "    <tr>\n",
       "      <th>1</th>\n",
       "      <td>35</td>\n",
       "      <td>5</td>\n",
       "    </tr>\n",
       "  </tbody>\n",
       "</table>\n",
       "</div>"
      ],
      "text/plain": [
       "high_absence    0   1\n",
       "Grade_A              \n",
       "0             277  78\n",
       "1              35   5"
      ]
     },
     "execution_count": 83,
     "metadata": {},
     "output_type": "execute_result"
    }
   ],
   "source": [
    "ct=pd.crosstab(q1[\"Grade_A\"],q1[\"high_absence\"])\n",
    "ct"
   ]
  },
  {
   "cell_type": "code",
   "execution_count": 56,
   "id": "143000d6",
   "metadata": {},
   "outputs": [
    {
     "data": {
      "text/plain": [
       "<AxesSubplot:>"
      ]
     },
     "execution_count": 56,
     "metadata": {},
     "output_type": "execute_result"
    },
    {
     "data": {
      "image/png": "[encoded data removed]",
      "text/plain": [
       "<Figure size 432x288 with 2 Axes>"
      ]
     },
     "metadata": {
      "needs_background": "light"
     },
     "output_type": "display_data"
    }
   ],
   "source": [
    "import seaborn as sns\n",
    "import matplotlib.pyplot as plt     \n",
    "\n",
    "ax= plt.subplot()\n",
    "sns.heatmap(cm, annot=True, fmt='g', ax=ax)"
   ]
  },
  {
   "cell_type": "code",
   "execution_count": 76,
   "id": "05b28a92",
   "metadata": {},
   "outputs": [
    {
     "data": {
      "text/plain": [
       "0.10126582278481013"
      ]
     },
     "execution_count": 76,
     "metadata": {},
     "output_type": "execute_result"
    }
   ],
   "source": [
    "#Probability that a student gets 80% + in maths\n",
    "pa=(cm[1,0]+cm[1,1])/len(q1)\n",
    "pa"
   ]
  },
  {
   "cell_type": "code",
   "execution_count": 78,
   "id": "4f44bf17",
   "metadata": {},
   "outputs": [
    {
     "data": {
      "text/plain": [
       "0.21012658227848102"
      ]
     },
     "execution_count": 78,
     "metadata": {},
     "output_type": "execute_result"
    }
   ],
   "source": [
    "#Probability that a student is adsent for more than 10 days\n",
    "pb=(cm[0,1]+cm[1,1])/len(q1)\n",
    "pb"
   ]
  },
  {
   "cell_type": "code",
   "execution_count": 79,
   "id": "ec46a67a",
   "metadata": {},
   "outputs": [
    {
     "data": {
      "text/plain": [
       "0.012658227848101266"
      ]
     },
     "execution_count": 79,
     "metadata": {},
     "output_type": "execute_result"
    }
   ],
   "source": [
    "#probability that a student gets an A grade(80% +) in maths and they miss 10 or more classes\n",
    "paandb=cm[1,1]/len(q1)\n",
    "paandb"
   ]
  },
  {
   "cell_type": "code",
   "execution_count": 80,
   "id": "aa4977e0",
   "metadata": {},
   "outputs": [
    {
     "data": {
      "text/plain": [
       "0.060240963855421686"
      ]
     },
     "execution_count": 80,
     "metadata": {},
     "output_type": "execute_result"
    }
   ],
   "source": [
    "pagivenb=paandb/pb\n",
    "pagivenb"
   ]
  },
  {
   "cell_type": "markdown",
   "id": "1b8913b9",
   "metadata": {},
   "source": [
    "### probability that a student gets an A grade(80% +) in maths and they miss 10 or more classes is 0.0602"
   ]
  },
  {
   "cell_type": "code",
   "execution_count": 4,
   "id": "31a9c686",
   "metadata": {},
   "outputs": [
    {
     "data": {
      "text/plain": [
       "Index(['school', 'sex', 'age', 'address', 'famsize', 'Pstatus', 'Medu', 'Fedu',\n",
       "       'Mjob', 'Fjob', 'reason', 'guardian', 'traveltime', 'studytime',\n",
       "       'failures', 'schoolsup', 'famsup', 'paid', 'activities', 'nursery',\n",
       "       'higher', 'internet', 'romantic', 'famrel', 'freetime', 'goout', 'Dalc',\n",
       "       'Walc', 'health', 'absences', 'G1', 'G2', 'G3'],\n",
       "      dtype='object')"
      ]
     },
     "execution_count": 4,
     "metadata": {},
     "output_type": "execute_result"
    }
   ],
   "source": [
    "df.columns"
   ]
  },
  {
   "cell_type": "code",
   "execution_count": 5,
   "id": "d5913892",
   "metadata": {},
   "outputs": [
    {
     "data": {
      "text/html": [
       "<div>\n",
       "<style scoped>\n",
       "    .dataframe tbody tr th:only-of-type {\n",
       "        vertical-align: middle;\n",
       "    }\n",
       "\n",
       "    .dataframe tbody tr th {\n",
       "        vertical-align: top;\n",
       "    }\n",
       "\n",
       "    .dataframe thead th {\n",
       "        text-align: right;\n",
       "    }\n",
       "</style>\n",
       "<table border=\"1\" class=\"dataframe\">\n",
       "  <thead>\n",
       "    <tr style=\"text-align: right;\">\n",
       "      <th></th>\n",
       "      <th>school</th>\n",
       "      <th>sex</th>\n",
       "      <th>age</th>\n",
       "      <th>address</th>\n",
       "      <th>famsize</th>\n",
       "      <th>Pstatus</th>\n",
       "      <th>Medu</th>\n",
       "      <th>Fedu</th>\n",
       "      <th>Mjob</th>\n",
       "      <th>Fjob</th>\n",
       "      <th>...</th>\n",
       "      <th>famrel</th>\n",
       "      <th>freetime</th>\n",
       "      <th>goout</th>\n",
       "      <th>Dalc</th>\n",
       "      <th>Walc</th>\n",
       "      <th>health</th>\n",
       "      <th>absences</th>\n",
       "      <th>G1</th>\n",
       "      <th>G2</th>\n",
       "      <th>G3</th>\n",
       "    </tr>\n",
       "  </thead>\n",
       "  <tbody>\n",
       "    <tr>\n",
       "      <th>0</th>\n",
       "      <td>GP</td>\n",
       "      <td>F</td>\n",
       "      <td>18</td>\n",
       "      <td>U</td>\n",
       "      <td>GT3</td>\n",
       "      <td>A</td>\n",
       "      <td>4</td>\n",
       "      <td>4</td>\n",
       "      <td>at_home</td>\n",
       "      <td>teacher</td>\n",
       "      <td>...</td>\n",
       "      <td>4</td>\n",
       "      <td>3</td>\n",
       "      <td>4</td>\n",
       "      <td>1</td>\n",
       "      <td>1</td>\n",
       "      <td>3</td>\n",
       "      <td>6</td>\n",
       "      <td>5</td>\n",
       "      <td>6</td>\n",
       "      <td>6</td>\n",
       "    </tr>\n",
       "    <tr>\n",
       "      <th>1</th>\n",
       "      <td>GP</td>\n",
       "      <td>F</td>\n",
       "      <td>17</td>\n",
       "      <td>U</td>\n",
       "      <td>GT3</td>\n",
       "      <td>T</td>\n",
       "      <td>1</td>\n",
       "      <td>1</td>\n",
       "      <td>at_home</td>\n",
       "      <td>other</td>\n",
       "      <td>...</td>\n",
       "      <td>5</td>\n",
       "      <td>3</td>\n",
       "      <td>3</td>\n",
       "      <td>1</td>\n",
       "      <td>1</td>\n",
       "      <td>3</td>\n",
       "      <td>4</td>\n",
       "      <td>5</td>\n",
       "      <td>5</td>\n",
       "      <td>6</td>\n",
       "    </tr>\n",
       "    <tr>\n",
       "      <th>2</th>\n",
       "      <td>GP</td>\n",
       "      <td>F</td>\n",
       "      <td>15</td>\n",
       "      <td>U</td>\n",
       "      <td>LE3</td>\n",
       "      <td>T</td>\n",
       "      <td>1</td>\n",
       "      <td>1</td>\n",
       "      <td>at_home</td>\n",
       "      <td>other</td>\n",
       "      <td>...</td>\n",
       "      <td>4</td>\n",
       "      <td>3</td>\n",
       "      <td>2</td>\n",
       "      <td>2</td>\n",
       "      <td>3</td>\n",
       "      <td>3</td>\n",
       "      <td>10</td>\n",
       "      <td>7</td>\n",
       "      <td>8</td>\n",
       "      <td>10</td>\n",
       "    </tr>\n",
       "    <tr>\n",
       "      <th>3</th>\n",
       "      <td>GP</td>\n",
       "      <td>F</td>\n",
       "      <td>15</td>\n",
       "      <td>U</td>\n",
       "      <td>GT3</td>\n",
       "      <td>T</td>\n",
       "      <td>4</td>\n",
       "      <td>2</td>\n",
       "      <td>health</td>\n",
       "      <td>services</td>\n",
       "      <td>...</td>\n",
       "      <td>3</td>\n",
       "      <td>2</td>\n",
       "      <td>2</td>\n",
       "      <td>1</td>\n",
       "      <td>1</td>\n",
       "      <td>5</td>\n",
       "      <td>2</td>\n",
       "      <td>15</td>\n",
       "      <td>14</td>\n",
       "      <td>15</td>\n",
       "    </tr>\n",
       "    <tr>\n",
       "      <th>4</th>\n",
       "      <td>GP</td>\n",
       "      <td>F</td>\n",
       "      <td>16</td>\n",
       "      <td>U</td>\n",
       "      <td>GT3</td>\n",
       "      <td>T</td>\n",
       "      <td>3</td>\n",
       "      <td>3</td>\n",
       "      <td>other</td>\n",
       "      <td>other</td>\n",
       "      <td>...</td>\n",
       "      <td>4</td>\n",
       "      <td>3</td>\n",
       "      <td>2</td>\n",
       "      <td>1</td>\n",
       "      <td>2</td>\n",
       "      <td>5</td>\n",
       "      <td>4</td>\n",
       "      <td>6</td>\n",
       "      <td>10</td>\n",
       "      <td>10</td>\n",
       "    </tr>\n",
       "  </tbody>\n",
       "</table>\n",
       "<p>5 rows × 33 columns</p>\n",
       "</div>"
      ],
      "text/plain": [
       "  school sex  age address famsize Pstatus  Medu  Fedu     Mjob      Fjob  ...  \\\n",
       "0     GP   F   18       U     GT3       A     4     4  at_home   teacher  ...   \n",
       "1     GP   F   17       U     GT3       T     1     1  at_home     other  ...   \n",
       "2     GP   F   15       U     LE3       T     1     1  at_home     other  ...   \n",
       "3     GP   F   15       U     GT3       T     4     2   health  services  ...   \n",
       "4     GP   F   16       U     GT3       T     3     3    other     other  ...   \n",
       "\n",
       "  famrel freetime  goout  Dalc  Walc health absences  G1  G2  G3  \n",
       "0      4        3      4     1     1      3        6   5   6   6  \n",
       "1      5        3      3     1     1      3        4   5   5   6  \n",
       "2      4        3      2     2     3      3       10   7   8  10  \n",
       "3      3        2      2     1     1      5        2  15  14  15  \n",
       "4      4        3      2     1     2      5        4   6  10  10  \n",
       "\n",
       "[5 rows x 33 columns]"
      ]
     },
     "execution_count": 5,
     "metadata": {},
     "output_type": "execute_result"
    }
   ],
   "source": [
    "df.head()"
   ]
  },
  {
   "cell_type": "code",
   "execution_count": 6,
   "id": "c8f953d8",
   "metadata": {},
   "outputs": [
    {
     "data": {
      "text/plain": [
       "20"
      ]
     },
     "execution_count": 6,
     "metadata": {},
     "output_type": "execute_result"
    }
   ],
   "source": [
    "df[\"G3\"].max()"
   ]
  },
  {
   "cell_type": "code",
   "execution_count": 10,
   "id": "55699519",
   "metadata": {},
   "outputs": [],
   "source": [
    "df[\"Grade_A\"]=(df[\"G3\"]/df[\"G3\"].max()>=0.8).astype(int)"
   ]
  },
  {
   "cell_type": "code",
   "execution_count": 11,
   "id": "085790cb",
   "metadata": {},
   "outputs": [
    {
     "data": {
      "text/plain": [
       "0      0\n",
       "1      0\n",
       "2      0\n",
       "3      0\n",
       "4      0\n",
       "      ..\n",
       "390    0\n",
       "391    1\n",
       "392    0\n",
       "393    0\n",
       "394    0\n",
       "Name: Grade_A, Length: 395, dtype: int32"
      ]
     },
     "execution_count": 11,
     "metadata": {},
     "output_type": "execute_result"
    }
   ],
   "source": [
    "df[\"Grade_A\"]"
   ]
  },
  {
   "cell_type": "code",
   "execution_count": 15,
   "id": "f737ea22",
   "metadata": {},
   "outputs": [
    {
     "data": {
      "text/plain": [
       "array(['other', 'services', 'health', 'at_home'], dtype=object)"
      ]
     },
     "execution_count": 15,
     "metadata": {},
     "output_type": "execute_result"
    }
   ],
   "source": [
    "df[df[\"Fjob\"]!=\"teacher\"][\"Fjob\"].unique()"
   ]
  },
  {
   "cell_type": "code",
   "execution_count": null,
   "id": "ca674a3f",
   "metadata": {},
   "outputs": [],
   "source": []
  }
 ],
 "metadata": {
  "kernelspec": {
   "display_name": "Python 3 (ipykernel)",
   "language": "python",
   "name": "python3"
  },
  "language_info": {
   "codemirror_mode": {
    "name": "ipython",
    "version": 3
   },
   "file_extension": ".py",
   "mimetype": "text/x-python",
   "name": "python",
   "nbconvert_exporter": "python",
   "pygments_lexer": "ipython3",
   "version": "3.9.7"
  }
 },
 "nbformat": 4,
 "nbformat_minor": 5
}
